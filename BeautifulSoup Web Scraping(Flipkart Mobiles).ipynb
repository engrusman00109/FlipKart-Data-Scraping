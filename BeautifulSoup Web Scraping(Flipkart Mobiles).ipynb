{
 "cells": [
  {
   "cell_type": "markdown",
   "id": "ad717785",
   "metadata": {},
   "source": [
    "# Name:M.Usman Akram\n",
    "# Roll # : 20CSE-14\n",
    "# BeautifulSoup WebScraping\n",
    "# Mobile Data "
   ]
  },
  {
   "cell_type": "markdown",
   "id": "c1c87306",
   "metadata": {},
   "source": [
    "### Import Required Libraries:"
   ]
  },
  {
   "cell_type": "code",
   "execution_count": 1,
   "id": "ad3bb2f0",
   "metadata": {},
   "outputs": [],
   "source": [
    "from bs4 import BeautifulSoup\n",
    "import requests\n",
    "import pandas as pd"
   ]
  },
  {
   "cell_type": "markdown",
   "id": "4fadc794",
   "metadata": {},
   "source": [
    "### Base URL and URL:"
   ]
  },
  {
   "cell_type": "code",
   "execution_count": 2,
   "id": "ff16d1d7",
   "metadata": {},
   "outputs": [],
   "source": [
    "Base_url=\"https://www.flipkart.com/search?q=mobile%20&otracker=search&otracker1=search&marketplace=FLIPKART&as-show=on&as=off\""
   ]
  },
  {
   "cell_type": "code",
   "execution_count": 3,
   "id": "7dfc6076",
   "metadata": {},
   "outputs": [],
   "source": [
    "url=\"https://www.flipkart.com/search?q=mobile%20&otracker=search&otracker1=search&marketplace=FLIPKART&as-show=on&as=off&page=\""
   ]
  },
  {
   "cell_type": "markdown",
   "id": "2e8bc889",
   "metadata": {},
   "source": [
    "### Status_Code:"
   ]
  },
  {
   "cell_type": "code",
   "execution_count": 4,
   "id": "2ac1d8b7",
   "metadata": {},
   "outputs": [],
   "source": [
    "req=requests.get(Base_url)"
   ]
  },
  {
   "cell_type": "code",
   "execution_count": 5,
   "id": "f51eccb2",
   "metadata": {},
   "outputs": [
    {
     "data": {
      "text/plain": [
       "<Response [200]>"
      ]
     },
     "execution_count": 5,
     "metadata": {},
     "output_type": "execute_result"
    }
   ],
   "source": [
    "req"
   ]
  },
  {
   "cell_type": "markdown",
   "id": "3cb19443",
   "metadata": {},
   "source": [
    "### Creating Empty Lists:"
   ]
  },
  {
   "cell_type": "code",
   "execution_count": 6,
   "id": "86971516",
   "metadata": {},
   "outputs": [],
   "source": [
    "n1=[]\n",
    "m1=[]\n",
    "s1=[]\n",
    "c1=[]\n",
    "b1=[]\n",
    "pr1=[]\n",
    "w1=[]\n",
    "r1=[]\n",
    "d1=[]"
   ]
  },
  {
   "cell_type": "code",
   "execution_count": null,
   "id": "0e91ffc2",
   "metadata": {},
   "outputs": [],
   "source": [
    "for i in range(1,41):\n",
    "    url=Base_url+str(i)\n",
    "    req=requests.get(url)\n",
    "    soup=BeautifulSoup(req.text,\"html.parser\")\n",
    "    name=soup.find_all(\"div\",class_=\"_4rR01T\")\n",
    "    memory=soup.find_all(\"li\",class_=\"rgWa7D\")\n",
    "    screen=soup.find_all(\"li\",class_=\"rgWa7D\")\n",
    "    cameras=soup.find_all(\"li\",class_=\"rgWa7D\")\n",
    "    battery=soup.find_all(\"li\",class_=\"rgWa7D\")\n",
    "    processor=soup.find_all(\"li\",class_=\"rgWa7D\")\n",
    "    warrenty=soup.find_all(\"li\",class_=\"rgWa7D\")\n",
    "    rating=soup.find_all(\"span\",class_=\"_2_R_DZ\")\n",
    "    off=soup.find_all(\"div\",class_=\"_3Ay6Sb\")\n",
    "    for n,m,s,c,b,p1,w,r,o in zip(name,memory,screen,cameras,battery,processor,warrenty,rating,off):\n",
    "        n1.append(n.text)\n",
    "        m1.append(m.text)\n",
    "        s1.append(s.text)\n",
    "        c1.append(c.text)\n",
    "        b1.append(b.text)\n",
    "        pr1.append(p1.text)\n",
    "        w1.append(w.text)\n",
    "        r1.append(r.text)\n",
    "        d1.append(o.text)\n",
    "        \n",
    "        \n",
    "\n",
    "    "
   ]
  },
  {
   "cell_type": "markdown",
   "id": "9aa1d382",
   "metadata": {},
   "source": [
    "### Print All data to check it is appended or not:"
   ]
  },
  {
   "cell_type": "code",
   "execution_count": null,
   "id": "ee417741",
   "metadata": {},
   "outputs": [],
   "source": [
    "print(n1,m1,s1,c1,b1,pr1,w1,r1,d1)"
   ]
  },
  {
   "cell_type": "markdown",
   "id": "162aab5a",
   "metadata": {},
   "source": [
    "### Data Frame:"
   ]
  },
  {
   "cell_type": "code",
   "execution_count": null,
   "id": "f301b35b",
   "metadata": {},
   "outputs": [],
   "source": [
    "df=pd.DataFrame({\"Mobile_name\":n1,\"Processor\":pr1,\"Storage\":m1,\"Screen_Length\":s1,\"Camera\":c1,\"Battery\":b1,\"Warranty\":w1,\"Rating & Reviews\":r1,\" Discount\":d1})"
   ]
  },
  {
   "cell_type": "code",
   "execution_count": null,
   "id": "8ee4e6b1",
   "metadata": {},
   "outputs": [],
   "source": [
    "df"
   ]
  },
  {
   "cell_type": "markdown",
   "id": "ab229437",
   "metadata": {},
   "source": [
    "### DataFrame to .CSV:"
   ]
  },
  {
   "cell_type": "code",
   "execution_count": null,
   "id": "9ad643f0",
   "metadata": {},
   "outputs": [],
   "source": [
    "df.to_csv(\"Mobiles data.csv\")"
   ]
  },
  {
   "cell_type": "code",
   "execution_count": null,
   "id": "6328f115",
   "metadata": {},
   "outputs": [],
   "source": []
  },
  {
   "cell_type": "code",
   "execution_count": null,
   "id": "e0cf8eea",
   "metadata": {},
   "outputs": [],
   "source": []
  },
  {
   "cell_type": "code",
   "execution_count": null,
   "id": "c75377f5",
   "metadata": {},
   "outputs": [],
   "source": []
  },
  {
   "cell_type": "code",
   "execution_count": null,
   "id": "2e47650d",
   "metadata": {},
   "outputs": [],
   "source": []
  }
 ],
 "metadata": {
  "kernelspec": {
   "display_name": "Python 3 (ipykernel)",
   "language": "python",
   "name": "python3"
  },
  "language_info": {
   "codemirror_mode": {
    "name": "ipython",
    "version": 3
   },
   "file_extension": ".py",
   "mimetype": "text/x-python",
   "name": "python",
   "nbconvert_exporter": "python",
   "pygments_lexer": "ipython3",
   "version": "3.11.4"
  },
  "vscode": {
   "interpreter": {
    "hash": "04d9506e0ed350ddde8b6de62a35256bd0817574d1ca9ec79c49bcd83c4a4afe"
   }
  }
 },
 "nbformat": 4,
 "nbformat_minor": 5
}
